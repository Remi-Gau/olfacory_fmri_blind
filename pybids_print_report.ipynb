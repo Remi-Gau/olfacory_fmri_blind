{
 "cells": [
  {
   "cell_type": "markdown",
   "metadata": {},
   "source": [
    "## test script to write acquisition methods using pybids"
   ]
  },
  {
   "cell_type": "markdown",
   "metadata": {},
   "source": [
    "sent a PR as it seems that pybids reports module is unhappy with .nii files\n",
    "\n",
    "install local pybids\n",
    "`pip install -e pip install -e ~/github/pybids/`"
   ]
  },
  {
   "cell_type": "code",
   "execution_count": 1,
   "metadata": {},
   "outputs": [],
   "source": [
    "from os.path import join\n",
    "from bids import BIDSLayout\n",
    "from bids.reports import BIDSReport\n",
    "\n",
    "#from bids.tests import get_test_data_path\n",
    "#layout = BIDSLayout(join(get_test_data_path(), 'synthetic'))\n",
    "\n",
    "# test data set excludes DWI that throws an error otherwise\n",
    "layout = BIDSLayout(\"/home/remi/BIDS/olf_blind/raw_test\")"
   ]
  },
  {
   "cell_type": "code",
   "execution_count": 2,
   "metadata": {
    "scrolled": false
   },
   "outputs": [
    {
     "name": "stdout",
     "output_type": "stream",
     "text": [
      "Number of patterns detected: 35\n",
      "Remember to double-check everything and to replace <deg> with a degree symbol.\n"
     ]
    }
   ],
   "source": [
    "report = BIDSReport(layout)\n",
    "counter = report.generate()"
   ]
  },
  {
   "cell_type": "code",
   "execution_count": 3,
   "metadata": {
    "scrolled": false
   },
   "outputs": [
    {
     "name": "stdout",
     "output_type": "stream",
     "text": [
      "For session None:\n",
      "\tMR data were acquired using a UNKNOWN-Tesla SIEMENS MODEL MRI scanner.\n",
      "\tT2-weighted SK\\SP\\OSP spin echo (SE) structural MRI data were collected (29 slices; repetition time, TR=6100ms; echo time, TE=UNKNOWNms; flip angle, FA=150<deg>; field of view, FOV=105x140mm; matrix size=672x896; voxel size=0.16x0.16x2mm). \n",
      "\tT1-weighted SK\\SP\\MP GR\\IR (GR\\IR) structural MRI data were collected (256 slices; repetition time, TR=2300ms; echo time, TE=2.26ms; flip angle, FA=8<deg>; field of view, FOV=176x256mm; matrix size=176x256; voxel size=1x1x1mm). \n",
      "\tTwo runs of olfid segmented k-space echo planar (EP) single-echo fMRI data were collected (42 slices in interleaved ascending order; repetition time, TR=785ms; echo time, TE=30ms; flip angle, FA=54<deg>; field of view, FOV=192x192mm; matrix size=64x64; voxel size=3x3x3mm). Each run was 3:36 minutes in length, during which 275 functional volumes were acquired. \n",
      "\tTwo runs of olfloc segmented k-space echo planar (EP) single-echo fMRI data were collected (42 slices in interleaved ascending order; repetition time, TR=785ms; echo time, TE=30ms; flip angle, FA=54<deg>; field of view, FOV=192x192mm; matrix size=64x64; voxel size=3x3x3mm). Each run was 3:36 minutes in length, during which 274 functional volumes were acquired. \n",
      "\tOne run of rest segmented k-space echo planar (EP) single-echo fMRI data were collected (42 slices in interleaved ascending order; repetition time, TR=785ms; echo time, TE=30ms; flip angle, FA=54<deg>; field of view, FOV=192x192mm; matrix size=64x64; voxel size=3x3x3mm). Each run was 6:11 minutes in length, during which 472 functional volumes were acquired. \n",
      "\n",
      "Dicoms were converted to NIfTI-1 format. This section was (in part) generated automatically using pybids (0.9.2+5.gae1f268). \n"
     ]
    }
   ],
   "source": [
    "main_report = counter.most_common()[0][0]\n",
    "print(main_report)"
   ]
  }
 ],
 "metadata": {
  "kernelspec": {
   "display_name": "Python 3",
   "language": "python",
   "name": "python3"
  },
  "language_info": {
   "codemirror_mode": {
    "name": "ipython",
    "version": 3
   },
   "file_extension": ".py",
   "mimetype": "text/x-python",
   "name": "python",
   "nbconvert_exporter": "python",
   "pygments_lexer": "ipython3",
   "version": "3.7.1"
  }
 },
 "nbformat": 4,
 "nbformat_minor": 2
}
